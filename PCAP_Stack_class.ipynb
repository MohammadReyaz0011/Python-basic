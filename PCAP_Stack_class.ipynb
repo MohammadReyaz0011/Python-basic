{
  "nbformat": 4,
  "nbformat_minor": 0,
  "metadata": {
    "colab": {
      "provenance": [],
      "authorship_tag": "ABX9TyN1D5zJGSIgs+AGQoLQwo8o",
      "include_colab_link": true
    },
    "kernelspec": {
      "name": "python3",
      "display_name": "Python 3"
    },
    "language_info": {
      "name": "python"
    }
  },
  "cells": [
    {
      "cell_type": "markdown",
      "metadata": {
        "id": "view-in-github",
        "colab_type": "text"
      },
      "source": [
        "<a href=\"https://colab.research.google.com/github/MohammadReyaz0011/Python-basic/blob/main/PCAP_Stack_class.ipynb\" target=\"_parent\"><img src=\"https://colab.research.google.com/assets/colab-badge.svg\" alt=\"Open In Colab\"/></a>"
      ]
    },
    {
      "cell_type": "code",
      "execution_count": null,
      "metadata": {
        "id": "pB_CGA-0UIVJ"
      },
      "outputs": [],
      "source": [
        "class Stack:\n",
        "    def __init__(self):\n",
        "        self.__stack_list = []\n",
        "\n",
        "\n",
        "    def push(self, val):\n",
        "        self.__stack_list.append(val)\n",
        "\n",
        "\n",
        "    def pop(self):\n",
        "        val = self.__stack_list[-1]\n",
        "        del self.__stack_list[-1]\n",
        "        return val\n",
        "\n",
        "\n",
        "stack_object = Stack()\n",
        "\n",
        "stack_object.push(3)\n",
        "stack_object.push(2)\n",
        "stack_object.push(1)\n",
        "\n",
        "print(stack_object.pop())\n",
        "print(stack_object.pop())\n",
        "print(stack_object.pop())"
      ]
    }
  ]
}