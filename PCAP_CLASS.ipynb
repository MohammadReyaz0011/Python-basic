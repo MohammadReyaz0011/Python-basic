{
  "nbformat": 4,
  "nbformat_minor": 0,
  "metadata": {
    "colab": {
      "provenance": [],
      "collapsed_sections": [],
      "authorship_tag": "ABX9TyPS1lcYjgZUUGpB9U4TffqL",
      "include_colab_link": true
    },
    "kernelspec": {
      "name": "python3",
      "display_name": "Python 3"
    },
    "language_info": {
      "name": "python"
    }
  },
  "cells": [
    {
      "cell_type": "markdown",
      "metadata": {
        "id": "view-in-github",
        "colab_type": "text"
      },
      "source": [
        "<a href=\"https://colab.research.google.com/github/MohammadReyaz0011/Python-basic/blob/main/PCAP_CLASS.ipynb\" target=\"_parent\"><img src=\"https://colab.research.google.com/assets/colab-badge.svg\" alt=\"Open In Colab\"/></a>"
      ]
    },
    {
      "cell_type": "markdown",
      "source": [
        " A Class is a container contains a specific property and attribute of the product it contains:\n",
        "\n",
        "A object is instance(or reference )of a class, which is used to obtain the property and attribute of the class to which it has beem summoned, it can also call its superclass"
      ],
      "metadata": {
        "id": "lJQvwEIYD6bc"
      }
    },
    {
      "cell_type": "code",
      "execution_count": null,
      "metadata": {
        "id": "Imsjfiy0DcYX"
      },
      "outputs": [],
      "source": [
        "class TheSimplestClass:\n",
        "    pass\n",
        "my_first_object = TheSimplestClass()"
      ]
    },
    {
      "cell_type": "markdown",
      "source": [
        " Constructor: used to initialize the object\n",
        "> it has to be named in a strict way;\n",
        "\n",
        "> it is invoked implicitly, when the new object is created.\n",
        "\n",
        "constructor, as its general purpose is to construct a new object. The constructor should know everything about the object's structure, and must perform all the needed initializations.\n",
        "\n",
        "the constructor's name is always \"__init______\""
      ],
      "metadata": {
        "id": "T1wa3_OSFkXT"
      }
    },
    {
      "cell_type": "code",
      "source": [
        "class Stack:\n",
        "    def __init__(self):\n",
        "        self.stack_list = []\n",
        "\n",
        "\n",
        "stack_object = Stack()\n",
        "print(len(stack_object.stack_list))"
      ],
      "metadata": {
        "id": "4JL4RtG1E7ov"
      },
      "execution_count": null,
      "outputs": []
    },
    {
      "cell_type": "code",
      "source": [
        "class Stack:\n",
        "    def __init__(self):\n",
        "        self.__stack_list = []\n",
        "\n",
        "\n",
        "stack_object = Stack()\n",
        "print(len(stack_object.__stack_list))\n"
      ],
      "metadata": {
        "id": "jYcT6BIiG7EC"
      },
      "execution_count": null,
      "outputs": []
    },
    {
      "cell_type": "code",
      "source": [
        "class Stack:\n",
        "    def __init__(self):\n",
        "        self.__stack_list = []\n",
        "\n",
        "\n",
        "    def push(self, val):\n",
        "        self.__stack_list.append(val)\n",
        "\n",
        "\n",
        "    def pop(self):\n",
        "        val = self.__stack_list[-1]\n",
        "        del self.__stack_list[-1]\n",
        "        return val\n",
        "\n",
        "\n",
        "stack_object = Stack()\n",
        "\n",
        "stack_object.push(3)\n",
        "stack_object.push(2)\n",
        "stack_object.push(1)\n",
        "\n",
        "print(stack_object.pop())\n",
        "print(stack_object.pop())\n",
        "print(stack_object.pop()) q"
      ],
      "metadata": {
        "id": "6TmcpSD1Hl-g"
      },
      "execution_count": null,
      "outputs": []
    },
    {
      "cell_type": "markdown",
      "source": [
        "Here, both functions have a parameter named self at the first position of the parameters list.\n",
        "\n",
        "Is it needed? Yes, it is.\n",
        "\n",
        "All methods have to have this parameter. It plays the same role as the first constructor parameter.\n",
        "\n",
        "It allows the method to access entities (properties and activities/methods) carried out by the actual object. You cannot omit it. Every time Python invokes a method, it implicitly sends the current object as the first argument.\n",
        "\n",
        "This means that a method is obligated to have at least one parameter, which is used by Python itself - you don't have any influence on it."
      ],
      "metadata": {
        "id": "pPksIDDtDgwP"
      }
    },
    {
      "cell_type": "code",
      "source": [
        "class Stack:\n",
        "    def __init__(self):\n",
        "        self.__stack_list = []\n",
        "\n",
        "    def push(self, val):\n",
        "        self.__stack_list.append(val)\n",
        "\n",
        "    def pop(self):\n",
        "        val = self.__stack_list[-1]\n",
        "        del self.__stack_list[-1]\n",
        "        return val\n",
        "\n",
        "\n",
        "class AddingStack(Stack):\n",
        "    def __init__(self):\n",
        "        Stack.__init__(self)\n",
        "        self.__sum = 0\n"
      ],
      "metadata": {
        "id": "l3zxGef2I73D"
      },
      "execution_count": null,
      "outputs": []
    },
    {
      "cell_type": "markdown",
      "source": [
        "Adding child class adding stack to super class Stack:\n",
        "\n",
        "it should have a constructor\n",
        "\n",
        "constructor is named as __init____\n",
        "\n",
        "child class shoul explicitly call the super class constructor:\n",
        "Stack.__init__(slef) self is the pointing object which point to to the current object. which is passed to the super class, to initialize the stack_List for the current object\n",
        "\n",
        "self.sum=0 is to initialize the addingstack attributes(variables)\n",
        "\n",
        "\n",
        "\n"
      ],
      "metadata": {
        "id": "DkfKUNRxJCiM"
      }
    },
    {
      "cell_type": "code",
      "source": [
        "class Stack:\n",
        "    def __init__(self):\n",
        "        self.__stack_list = []\n",
        "\n",
        "    def push(self, val):\n",
        "        self.__stack_list.append(val)\n",
        "\n",
        "    def pop(self):\n",
        "        val = self.__stack_list[-1]\n",
        "        del self.__stack_list[-1]\n",
        "        return val\n",
        "\n",
        "\n",
        "class AddingStack(Stack):\n",
        "    def __init__(self):\n",
        "        Stack.__init__(self)\n",
        "        self.__sum = 0\n",
        "\n",
        "    def push(self, val):\n",
        "        self.__sum += val\n",
        "        Stack.push(self, val)\n",
        "    def pop(self):\n",
        "        val = Stack.pop(self)\n",
        "        self.__sum -= val\n",
        "        return val\n",
        "    def get_sum(self):\n",
        "        return self.__sum\n",
        "\n",
        "stack_object = AddingStack()\n",
        "\n",
        "for i in range(5):\n",
        "    stack_object.push(i)\n",
        "print(stack_object.get_sum())\n",
        "\n",
        "for i in range(5):\n",
        "    print(stack_object.pop())"
      ],
      "metadata": {
        "colab": {
          "base_uri": "https://localhost:8080/"
        },
        "id": "Y540OCWSKgjr",
        "outputId": "70535866-184e-478b-f938-5f8ed3754a9d"
      },
      "execution_count": 1,
      "outputs": [
        {
          "output_type": "stream",
          "name": "stdout",
          "text": [
            "10\n",
            "4\n",
            "3\n",
            "2\n",
            "1\n",
            "0\n"
          ]
        }
      ]
    },
    {
      "cell_type": "markdown",
      "source": [
        "Instance Variable:\n",
        "\n",
        "it is accessible using the object of the class: \n",
        "\n",
        "ex:\n",
        "__first__ and __second__ and __third__ from below"
      ],
      "metadata": {
        "id": "xjgXwVmEPz8o"
      }
    },
    {
      "cell_type": "code",
      "source": [
        "class ExampleClass:\n",
        "    def __init__(self, val = 1):\n",
        "        self.__first = val\n",
        "\n",
        "    def set_second(self, val = 2):\n",
        "        self.__second = val\n",
        "\n",
        "\n",
        "example_object_1 = ExampleClass()\n",
        "example_object_2 = ExampleClass(2)\n",
        "\n",
        "example_object_2.set_second(3)\n",
        "\n",
        "example_object_3 = ExampleClass(4)\n",
        "example_object_3.__third = 5\n",
        "\n",
        "\n",
        "print(example_object_1.__dict__)\n",
        "print(example_object_2.__dict__)\n",
        "print(example_object_3.__dict__)\n"
      ],
      "metadata": {
        "id": "vAMfoV_SNZin"
      },
      "execution_count": null,
      "outputs": []
    },
    {
      "cell_type": "markdown",
      "source": [
        "Class variable:\n",
        "\n",
        "it is accessible using class name:\n",
        "\n",
        "counter is class variable"
      ],
      "metadata": {
        "id": "611rKzs8QHEZ"
      }
    },
    {
      "cell_type": "code",
      "source": [
        "class ExampleClass:\n",
        "    counter = 0\n",
        "    def __init__(self, val = 1):\n",
        "        self.__first = val\n",
        "        ExampleClass.counter += 1\n",
        "\n",
        "\n",
        "example_object_1 = ExampleClass()\n",
        "example_object_2 = ExampleClass(2)\n",
        "example_object_3 = ExampleClass(4)\n",
        "\n",
        "print(example_object_1.__dict__, example_object_1.counter)\n",
        "print(example_object_2.__dict__, example_object_2.counter)\n",
        "print(example_object_3.__dict__, example_object_3.counter)"
      ],
      "metadata": {
        "id": "6t9SyNJWQOni"
      },
      "execution_count": null,
      "outputs": []
    },
    {
      "cell_type": "markdown",
      "source": [
        "Class variable vs Instance Variable:\n",
        "\n"
      ],
      "metadata": {
        "id": "HSauDZBARcd8"
      }
    },
    {
      "cell_type": "code",
      "source": [
        "class ExampleClass:\n",
        "    varia = 1\n",
        "    def __init__(self, val):\n",
        "        ExampleClass.varia = val\n",
        "        self.varia1=val\n",
        "\n",
        "\n",
        "print(ExampleClass.__dict__)\n",
        "example_object = ExampleClass(2)\n",
        "\n",
        "print(ExampleClass.__dict__)\n",
        "print(example_object.__dict__)\n",
        "print(ExampleClass.__dict__)\n"
      ],
      "metadata": {
        "colab": {
          "base_uri": "https://localhost:8080/"
        },
        "id": "ctFvMgjORiFR",
        "outputId": "c310e7e5-5e75-49d2-e147-ecb682f517f1"
      },
      "execution_count": 1,
      "outputs": [
        {
          "output_type": "stream",
          "name": "stdout",
          "text": [
            "{'__module__': '__main__', 'varia': 1, '__init__': <function ExampleClass.__init__ at 0x7fcd6e52f440>, '__dict__': <attribute '__dict__' of 'ExampleClass' objects>, '__weakref__': <attribute '__weakref__' of 'ExampleClass' objects>, '__doc__': None}\n",
            "{'__module__': '__main__', 'varia': 2, '__init__': <function ExampleClass.__init__ at 0x7fcd6e52f440>, '__dict__': <attribute '__dict__' of 'ExampleClass' objects>, '__weakref__': <attribute '__weakref__' of 'ExampleClass' objects>, '__doc__': None}\n",
            "{'varia1': 2}\n",
            "{'__module__': '__main__', 'varia': 2, '__init__': <function ExampleClass.__init__ at 0x7fcd6e52f440>, '__dict__': <attribute '__dict__' of 'ExampleClass' objects>, '__weakref__': <attribute '__weakref__' of 'ExampleClass' objects>, '__doc__': None}\n"
          ]
        }
      ]
    },
    {
      "cell_type": "markdown",
      "source": [
        "python attribute existance:\n",
        "\n",
        "you may not expect that all objects of the same class have the same sets of properties."
      ],
      "metadata": {
        "id": "5cHZqVVHSMl_"
      }
    },
    {
      "cell_type": "code",
      "source": [
        "class ExampleClass:\n",
        "    def __init__(self, val):\n",
        "        if val % 2 != 0:\n",
        "            self.a = 1\n",
        "        else:\n",
        "            self.b = 1\n",
        "\n",
        "\n",
        "example_object = ExampleClass(2)\n",
        "\n",
        "print(example_object.a)\n",
        "print(example_object.b)"
      ],
      "metadata": {
        "id": "LlWH8XSRSLuT"
      },
      "execution_count": null,
      "outputs": []
    },
    {
      "cell_type": "code",
      "source": [
        "class ExampleClass:\n",
        "    def __init__(self, val):\n",
        "        if val % 2 != 0:\n",
        "            self.a = 1\n",
        "        else:\n",
        "            self.b = 1\n",
        "\n",
        "\n",
        "example_object = ExampleClass(1)\n",
        "print(example_object.a)\n",
        "\n",
        "try:\n",
        "    print(example_object.b)\n",
        "except AttributeError:\n",
        "    pass"
      ],
      "metadata": {
        "id": "qJyMAo6-Sf68"
      },
      "execution_count": null,
      "outputs": []
    },
    {
      "cell_type": "code",
      "source": [
        "class ExampleClass:\n",
        "    a = 1\n",
        "    def __init__(self):\n",
        "        self.b = 2\n",
        "\n",
        "\n",
        "example_object = ExampleClass()\n",
        "\n",
        "print(hasattr(example_object, 'b'))\n",
        "print(hasattr(example_object, 'a'))\n",
        "print(hasattr(ExampleClass, 'b'))\n",
        "print(hasattr(ExampleClass, 'a'))"
      ],
      "metadata": {
        "id": "s2nfeUXiTDN6"
      },
      "execution_count": null,
      "outputs": []
    },
    {
      "cell_type": "markdown",
      "source": [
        "METHOD:::\n"
      ],
      "metadata": {
        "id": "sP7t1KxGTfLu"
      }
    },
    {
      "cell_type": "code",
      "source": [
        "class Classy:\n",
        "    def method(self, par):\n",
        "        print(\"method:\", par)\n",
        "\n",
        "\n",
        "obj = Classy()\n",
        "obj.method(1)\n",
        "obj.method(2)\n",
        "obj.method(3)\n"
      ],
      "metadata": {
        "colab": {
          "base_uri": "https://localhost:8080/"
        },
        "id": "Ed5SDSB_TiSO",
        "outputId": "51f7d898-0db2-4ddf-e2a2-c752a83052ed"
      },
      "execution_count": 2,
      "outputs": [
        {
          "output_type": "stream",
          "name": "stdout",
          "text": [
            "method: 1\n",
            "method: 2\n",
            "method: 3\n"
          ]
        }
      ]
    },
    {
      "cell_type": "markdown",
      "source": [
        "Class variable and instance variable:"
      ],
      "metadata": {
        "id": "GrMre5cjT4jq"
      }
    },
    {
      "cell_type": "code",
      "source": [
        "class Classy:\n",
        "    varia = 2\n",
        "    def method(self):\n",
        "        print(self.varia, self.var)\n",
        "\n",
        "\n",
        "obj = Classy()\n",
        "obj.var = 3\n",
        "obj.method()"
      ],
      "metadata": {
        "id": "Ay4YwxkqT3BS"
      },
      "execution_count": null,
      "outputs": []
    },
    {
      "cell_type": "markdown",
      "source": [
        "__init__ is a method anso called as constructor, should have self as first argument"
      ],
      "metadata": {
        "id": "5dOTd_R2ULEs"
      }
    },
    {
      "cell_type": "code",
      "source": [
        "class Classy:\n",
        "    def __init__(self, value):\n",
        "        self.var = value\n",
        "\n",
        "\n",
        "obj_1 = Classy(\"object\")\n",
        "\n",
        "print(obj_1.var)\n"
      ],
      "metadata": {
        "id": "5jyoKj5uUJVG"
      },
      "execution_count": null,
      "outputs": []
    },
    {
      "cell_type": "code",
      "source": [
        "class Classy:\n",
        "    def visible(self):\n",
        "        print(\"visible\")\n",
        "    \n",
        "    def __hidden(self):\n",
        "        print(\"hidden\")\n",
        "\n",
        "\n",
        "obj = Classy()\n",
        "obj.visible()\n",
        "\n",
        "try:\n",
        "    obj.__hidden()\n",
        "except:\n",
        "    print(\"failed\")\n",
        "\n",
        "obj._Classy__hidden()"
      ],
      "metadata": {
        "id": "1EQUodRPVEFk"
      },
      "execution_count": null,
      "outputs": []
    },
    {
      "cell_type": "code",
      "source": [
        "class Classy:\n",
        "    varia = 1\n",
        "    def __init__(self):\n",
        "        self.var = 2\n",
        "\n",
        "    def method(self):\n",
        "        pass\n",
        "\n",
        "    def __hidden(self):#private so access only using class name\n",
        "        pass\n",
        "\n",
        "\n",
        "obj = Classy()\n",
        "\n",
        "print(obj.__dict__)\n",
        "print(Classy.__dict__)\n"
      ],
      "metadata": {
        "id": "vCvWOm7dVXYb"
      },
      "execution_count": null,
      "outputs": []
    },
    {
      "cell_type": "markdown",
      "source": [
        "__dict__ is a dictionary. Another built-in property worth mentioning is __name__, which is a string.\n",
        "\n",
        "The property contains the name of the class. It's nothing exciting, just a string.\n",
        "\n",
        "Note: the __name__ attribute is absent from the object - it exists only inside classes.\n",
        "\n",
        "\n",
        "If you want to find the class of a particular object, you can use a function named type(), which is able (among other things) to find a class which has been used to instantiate any object."
      ],
      "metadata": {
        "id": "KQ-0NSmdWKZv"
      }
    },
    {
      "cell_type": "code",
      "source": [
        "class Classy:\n",
        "    pass\n",
        "\n",
        "\n",
        "print(Classy.__name__)\n",
        "obj = Classy()\n",
        "print(type(obj).__name__)\n"
      ],
      "metadata": {
        "id": "J2p0Q7jrV5Va"
      },
      "execution_count": null,
      "outputs": []
    },
    {
      "cell_type": "markdown",
      "source": [
        "__module__ is a string, too - it stores the name of the module which contains the definition of the class."
      ],
      "metadata": {
        "id": "yI5rPvpCWFwv"
      }
    },
    {
      "cell_type": "code",
      "source": [
        "class Classy:\n",
        "    pass\n",
        "\n",
        "\n",
        "print(Classy.__module__)\n",
        "obj = Classy()\n",
        "print(obj.__module__)\n"
      ],
      "metadata": {
        "id": "Wp8hxIpLWDhU"
      },
      "execution_count": null,
      "outputs": []
    },
    {
      "cell_type": "markdown",
      "source": [
        "__bases__ is a tuple. The tuple contains classes (not class names) which are direct superclasses for the class.\n",
        "\n",
        "The order is the same as that used inside the class definition.\n",
        "\n",
        "We'll show you only a very basic example, as we want to highlight how inheritance works.\n",
        "\n",
        "Moreover, we're going to show you how to use this attribute when we discuss the objective aspects of exceptions.\n",
        "\n",
        "Note: only classes have this attribute - objects don't."
      ],
      "metadata": {
        "id": "k_50f2CgWeVQ"
      }
    },
    {
      "cell_type": "code",
      "source": [
        "class SuperOne:\n",
        "    pass\n",
        "\n",
        "\n",
        "class SuperTwo:\n",
        "    pass\n",
        "\n",
        "\n",
        "class Sub(SuperOne, SuperTwo):\n",
        "    pass\n",
        "\n",
        "\n",
        "def printBases(cls):\n",
        "    print('( ', end='')\n",
        "\n",
        "    for x in cls.__bases__:\n",
        "        print(x.__name__, end=' ')\n",
        "    print(')')\n",
        "\n",
        "\n",
        "printBases(SuperOne)\n",
        "printBases(SuperTwo)\n",
        "printBases(Sub)\n"
      ],
      "metadata": {
        "id": "_EdhSbWaWedy"
      },
      "execution_count": null,
      "outputs": []
    }
  ]
}