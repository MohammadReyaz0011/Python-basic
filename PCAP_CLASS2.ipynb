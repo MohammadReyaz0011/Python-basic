{
  "nbformat": 4,
  "nbformat_minor": 0,
  "metadata": {
    "colab": {
      "provenance": [],
      "authorship_tag": "ABX9TyO2kvDAVsCRpxxV8ajoXQNO",
      "include_colab_link": true
    },
    "kernelspec": {
      "name": "python3",
      "display_name": "Python 3"
    },
    "language_info": {
      "name": "python"
    }
  },
  "cells": [
    {
      "cell_type": "markdown",
      "metadata": {
        "id": "view-in-github",
        "colab_type": "text"
      },
      "source": [
        "<a href=\"https://colab.research.google.com/github/MohammadReyaz0011/Python-basic/blob/main/PCAP_CLASS2.ipynb\" target=\"_parent\"><img src=\"https://colab.research.google.com/assets/colab-badge.svg\" alt=\"Open In Colab\"/></a>"
      ]
    },
    {
      "cell_type": "markdown",
      "source": [
        "introspection, \n",
        "\n",
        "which is the ability of a program to examine the type or properties of an object at runtime;\n",
        "\n",
        "\n",
        "reflection, \n",
        "\n",
        "which goes a step further, and is the ability of a program to manipulate the values, properties and/or functions of an object at runtime."
      ],
      "metadata": {
        "id": "AH6MRawNIone"
      }
    },
    {
      "cell_type": "markdown",
      "source": [
        "getattr():\n",
        "\n",
        "it gets the objects attributes value\n",
        "\n",
        "setattr():\n",
        "\n",
        "it sets the attribute with new value"
      ],
      "metadata": {
        "id": "gsXpsG7GJdFy"
      }
    },
    {
      "cell_type": "code",
      "execution_count": null,
      "metadata": {
        "id": "1ZBgB7mXIhTu"
      },
      "outputs": [],
      "source": [
        "class MyClass:\n",
        "    pass\n",
        "\n",
        "\n",
        "obj = MyClass()\n",
        "obj.a = 1\n",
        "obj.b = 2\n",
        "obj.i = 3\n",
        "obj.ireal = 3.5\n",
        "obj.integer = 4\n",
        "obj.z = 5\n",
        "\n",
        "\n",
        "def incIntsI(obj):\n",
        "    for name in obj.__dict__.keys():\n",
        "        if name.startswith('i'):\n",
        "            val = getattr(obj, name)\n",
        "            if isinstance(val, int):\n",
        "                setattr(obj, name, val + 1)\n",
        "\n",
        "\n",
        "print(obj.__dict__)\n",
        "incIntsI(obj)\n",
        "print(obj.__dict__)"
      ]
    },
    {
      "cell_type": "markdown",
      "source": [
        "**Inheritance:**"
      ],
      "metadata": {
        "id": "4SlmgQAKJ8fR"
      }
    },
    {
      "cell_type": "code",
      "source": [
        "class Star:\n",
        "    def __init__(self, name, galaxy):\n",
        "        self.name = name\n",
        "        self.galaxy = galaxy\n",
        "\n",
        "    def __str__(self):\n",
        "        return self.name + ' in ' + self.galaxy\n",
        "\n",
        "\n",
        "sun = Star(\"Sun\", \"Milky Way\")\n",
        "print(sun)\n"
      ],
      "metadata": {
        "id": "zhmqEKOuKBwi"
      },
      "execution_count": null,
      "outputs": []
    },
    {
      "cell_type": "code",
      "source": [
        "class Vehicle:\n",
        "    pass\n",
        "\n",
        "\n",
        "class LandVehicle(Vehicle):\n",
        "    pass\n",
        "\n",
        "\n",
        "class TrackedVehicle(LandVehicle):\n",
        "    pass\n"
      ],
      "metadata": {
        "id": "X2EEfgl9K57v"
      },
      "execution_count": null,
      "outputs": []
    },
    {
      "cell_type": "markdown",
      "source": [
        "**ISSUBCLASS(clasa,clasb)**"
      ],
      "metadata": {
        "id": "qELd4Y6RLH24"
      }
    },
    {
      "cell_type": "code",
      "source": [
        "class Vehicle:\n",
        "    pass\n",
        "\n",
        "\n",
        "class LandVehicle(Vehicle):\n",
        "    pass\n",
        "\n",
        "\n",
        "class TrackedVehicle(LandVehicle):\n",
        "    pass\n",
        "\n",
        "\n",
        "for cls1 in [Vehicle, LandVehicle, TrackedVehicle]:\n",
        "    for cls2 in [Vehicle, LandVehicle, TrackedVehicle]:\n",
        "        print(issubclass(cls1, cls2), end=\"\\t\")\n",
        "    print()\n"
      ],
      "metadata": {
        "id": "33fOb_q2LHf_"
      },
      "execution_count": null,
      "outputs": []
    },
    {
      "cell_type": "markdown",
      "source": [
        "**isinstance()**"
      ],
      "metadata": {
        "id": "HZCu1xEnLTRY"
      }
    },
    {
      "cell_type": "code",
      "source": [
        "class Vehicle:\n",
        "    pass\n",
        "\n",
        "\n",
        "class LandVehicle(Vehicle):\n",
        "    pass\n",
        "\n",
        "\n",
        "class TrackedVehicle(LandVehicle):\n",
        "    pass\n",
        "\n",
        "\n",
        "my_vehicle = Vehicle()\n",
        "my_land_vehicle = LandVehicle()\n",
        "my_tracked_vehicle = TrackedVehicle()\n",
        "\n",
        "for obj in [my_vehicle, my_land_vehicle, my_tracked_vehicle]:\n",
        "    for cls in [Vehicle, LandVehicle, TrackedVehicle]:\n",
        "        print(isinstance(obj, cls), end=\"\\t\")\n",
        "    print()\n"
      ],
      "metadata": {
        "id": "J3rwkXoGLWY-"
      },
      "execution_count": null,
      "outputs": []
    },
    {
      "cell_type": "markdown",
      "source": [
        "**is**"
      ],
      "metadata": {
        "id": "9oQdiH4yLdOD"
      }
    },
    {
      "cell_type": "code",
      "source": [
        "class SampleClass:\n",
        "    def __init__(self, val):\n",
        "        self.val = val\n",
        "\n",
        "\n",
        "object_1 = SampleClass(0)\n",
        "object_2 = SampleClass(2)\n",
        "object_3 = object_1\n",
        "object_3.val += 1\n",
        "\n",
        "print(object_1 is object_2)\n",
        "print(object_2 is object_3)\n",
        "print(object_3 is object_1)\n",
        "print(object_1.val, object_2.val, object_3.val)\n",
        "\n",
        "string_1 = \"Mary had a little \"\n",
        "string_2 = \"Mary had a little lamb\"\n",
        "string_1 += \"lamb\"\n",
        "\n",
        "print(string_1 == string_2, string_1 is string_2)"
      ],
      "metadata": {
        "id": "ASmBRXRlLump"
      },
      "execution_count": null,
      "outputs": []
    },
    {
      "cell_type": "markdown",
      "source": [
        "how python find properties and method"
      ],
      "metadata": {
        "id": "TG3Y-RcwMTUc"
      }
    },
    {
      "cell_type": "code",
      "source": [
        "class Super:\n",
        "    def __init__(self, name):\n",
        "        self.name = name\n",
        "\n",
        "    def __str__(self):\n",
        "        return \"My name is \" + self.name + \".\"\n",
        "\n",
        "\n",
        "class Sub(Super):\n",
        "    def __init__(self, name):\n",
        "        Super.__init__(self, name)\n",
        "\n",
        "\n",
        "obj = Sub(\"Andy\")\n",
        "\n",
        "print(obj)\n"
      ],
      "metadata": {
        "id": "sog0O_C7MW-P"
      },
      "execution_count": null,
      "outputs": []
    },
    {
      "cell_type": "markdown",
      "source": [
        "In the last example, we explicitly named the superclass. In this example, we make use of the super() function, which accesses the superclass without needing to know its name:\n"
      ],
      "metadata": {
        "id": "5mloOxboMvk2"
      }
    },
    {
      "cell_type": "code",
      "source": [
        "class Smile:\n",
        "    def __init__(self, name):\n",
        "        self.name = name\n",
        "\n",
        "    def __str__(self):\n",
        "        return \"My name is \" + self.name + \".\"\n",
        "\n",
        "\n",
        "class Sub(Smile):\n",
        "    def __init__(self, name):\n",
        "        super().__init__(name)\n",
        "\n",
        "\n",
        "obj = Sub(\"Andy\")\n",
        "\n",
        "print(obj)\n"
      ],
      "metadata": {
        "id": "y7O9v03AM2-r"
      },
      "execution_count": null,
      "outputs": []
    },
    {
      "cell_type": "markdown",
      "source": [
        "As you can see, the Super class defines one class variable named supVar, and the Sub class defines a variable named subVar."
      ],
      "metadata": {
        "id": "G6AbP0hdNcys"
      }
    },
    {
      "cell_type": "code",
      "source": [
        "class Super:\n",
        "    supVar = 1\n",
        "\n",
        "\n",
        "class Sub(Super):\n",
        "    subVar = 2\n",
        "\n",
        "\n",
        "obj = Sub()\n",
        "\n",
        "print(obj.subVar)\n",
        "print(obj.supVar)\n"
      ],
      "metadata": {
        "id": "0teC6TgCNc_M"
      },
      "execution_count": null,
      "outputs": []
    },
    {
      "cell_type": "code",
      "source": [
        "class Super:\n",
        "    def __init__(self):\n",
        "        self.supVar = 11\n",
        "\n",
        "\n",
        "class Sub(Super):\n",
        "    def __init__(self):\n",
        "        super().__init__()\n",
        "        self.subVar = 12\n",
        "\n",
        "\n",
        "obj = Sub()\n",
        "\n",
        "print(obj.subVar)\n",
        "print(obj.supVar)"
      ],
      "metadata": {
        "id": "Ri8I0vJnOllP"
      },
      "execution_count": null,
      "outputs": []
    },
    {
      "cell_type": "markdown",
      "source": [
        "multiple inheritance:"
      ],
      "metadata": {
        "id": "u7-0pneiOsLj"
      }
    },
    {
      "cell_type": "code",
      "source": [
        "class Level1:\n",
        "    variable_1 = 100\n",
        "    def __init__(self):\n",
        "        self.var_1 = 101\n",
        "\n",
        "    def fun_1(self):\n",
        "        return 102\n",
        "\n",
        "\n",
        "class Level2(Level1):\n",
        "    variable_2 = 200\n",
        "    def __init__(self):\n",
        "        super().__init__()\n",
        "        self.var_2 = 201\n",
        "    \n",
        "    def fun_2(self):\n",
        "        return 202\n",
        "\n",
        "\n",
        "class Level3(Level2):\n",
        "    variable_3 = 300\n",
        "    def __init__(self):\n",
        "        super().__init__()\n",
        "        self.var_3 = 301\n",
        "\n",
        "    def fun_3(self):\n",
        "        return 302\n",
        "\n",
        "\n",
        "obj = Level3()\n",
        "\n",
        "print(obj.variable_1, obj.var_1, obj.fun_1())\n",
        "print(obj.variable_2, obj.var_2, obj.fun_2())\n",
        "print(obj.variable_3, obj.var_3, obj.fun_3())\n"
      ],
      "metadata": {
        "colab": {
          "base_uri": "https://localhost:8080/"
        },
        "id": "GEuNoWYQOujD",
        "outputId": "a9826a69-e3da-4565-d74e-a7b991c31de0"
      },
      "execution_count": 1,
      "outputs": [
        {
          "output_type": "stream",
          "name": "stdout",
          "text": [
            "100 101 102\n",
            "200 201 202\n",
            "300 301 302\n"
          ]
        }
      ]
    },
    {
      "cell_type": "code",
      "source": [
        "class SuperA:\n",
        "    var_a = 10\n",
        "    def fun_a(self):\n",
        "        return 11\n",
        "\n",
        "\n",
        "class SuperB:\n",
        "    var_b = 20\n",
        "    def fun_b(self):\n",
        "        return 21\n",
        "\n",
        "\n",
        "class Sub(SuperA, SuperB):\n",
        "    pass\n",
        "\n",
        "\n",
        "obj = Sub()\n",
        "\n",
        "print(obj.var_a, obj.fun_a())\n",
        "print(obj.var_b, obj.fun_b())\n"
      ],
      "metadata": {
        "id": "4svajinFOzfZ"
      },
      "execution_count": null,
      "outputs": []
    },
    {
      "cell_type": "code",
      "source": [
        "class Level1:\n",
        "    var = 100\n",
        "    def fun(self):\n",
        "        return 101\n",
        "\n",
        "\n",
        "class Level2(Level1):\n",
        "    var = 200\n",
        "    def fun(self):\n",
        "        return 201\n",
        "\n",
        "\n",
        "class Level3(Level2):\n",
        "    pass\n",
        "\n",
        "\n",
        "obj = Level3()\n",
        "\n",
        "print(obj.var, obj.fun())\n"
      ],
      "metadata": {
        "id": "kRCiaKbjQ8oc"
      },
      "execution_count": null,
      "outputs": []
    },
    {
      "cell_type": "code",
      "source": [
        "class Left:\n",
        "    var = \"L\"\n",
        "    var_left = \"LL\"\n",
        "    def fun(self):\n",
        "        return \"Left\"\n",
        "\n",
        "\n",
        "class Right:\n",
        "    var = \"R\"\n",
        "    var_right = \"RR\"\n",
        "    def fun(self):\n",
        "        return \"Right\"\n",
        "\n",
        "\n",
        "class Sub(Left, Right): #left is first super class\n",
        "    pass\n",
        "\n",
        "\n",
        "obj = Sub()\n",
        "\n",
        "print(obj.var, obj.var_left, obj.var_right, obj.fun())\n"
      ],
      "metadata": {
        "id": "JUlNt81RRWZZ"
      },
      "execution_count": null,
      "outputs": []
    },
    {
      "cell_type": "code",
      "source": [
        "class One:\n",
        "    def do_it(self):\n",
        "        print(\"do_it from One\")\n",
        "\n",
        "    def doanything(self):\n",
        "        self.do_it()\n",
        "\n",
        "\n",
        "class Two(One):\n",
        "    def do_it(self):\n",
        "        print(\"do_it from Two\")\n",
        "\n",
        "\n",
        "one = One()\n",
        "two = Two()\n",
        "\n",
        "one.doanything()\n",
        "two.doanything()\n"
      ],
      "metadata": {
        "id": "vydTDEx_R28H"
      },
      "execution_count": null,
      "outputs": []
    },
    {
      "cell_type": "code",
      "source": [
        "import time\n",
        "\n",
        "class Tracks:\n",
        "    def change_direction(self, left, on):\n",
        "        print(\"tracks: \", left, on)\n",
        "\n",
        "\n",
        "class Wheels:\n",
        "    def change_direction(self, left, on):\n",
        "        print(\"wheels: \", left, on)\n",
        "\n",
        "\n",
        "class Vehicle:\n",
        "    def __init__(self, controller):\n",
        "        self.controller = controller\n",
        "\n",
        "    def turn(self, left):\n",
        "        self.controller.change_direction(left, True)\n",
        "        time.sleep(0.25)\n",
        "        self.controller.change_direction(left, False)\n",
        "\n",
        "\n",
        "wheeled = Vehicle(Wheels())\n",
        "tracked = Vehicle(Tracks())\n",
        "\n",
        "wheeled.turn(True)\n",
        "tracked.turn(False)"
      ],
      "metadata": {
        "id": "l4iRSvgrSEoX"
      },
      "execution_count": null,
      "outputs": []
    },
    {
      "cell_type": "code",
      "source": [],
      "metadata": {
        "id": "_MKrofoJSmzt"
      },
      "execution_count": null,
      "outputs": []
    },
    {
      "cell_type": "code",
      "source": [
        "class Tracks:\n",
        "    def change_direction(self, left, on):\n",
        "        print(\"tracks: \", left, on)\n",
        "\n",
        "\n",
        "class Wheels:\n",
        "    def change_direction(self, left, on):\n",
        "        print(\"wheels: \", left, on)\n",
        "\n",
        "\n",
        "class Vehicle:\n",
        "    def __init__(self, controller):\n",
        "        self.controller = controller\n",
        "\n",
        "    def turn(self, left):\n",
        "        self.controller.change_direction(left, True)\n",
        "        time.sleep(0.25)\n",
        "        self.controller.change_direction(left, False)\n",
        "\n",
        "\n",
        "wheeled = Vehicle(Wheels())\n",
        "tracked = Vehicle(Tracks())\n",
        "\n",
        "wheeled.turn(True)\n",
        "tracked.turn(False)"
      ],
      "metadata": {
        "id": "u2OQjdcmSm73"
      },
      "execution_count": null,
      "outputs": []
    },
    {
      "cell_type": "code",
      "source": [],
      "metadata": {
        "id": "Et6rXW9TS0IF"
      },
      "execution_count": null,
      "outputs": []
    },
    {
      "cell_type": "code",
      "source": [],
      "metadata": {
        "id": "7idwZ16nS0eH"
      },
      "execution_count": null,
      "outputs": []
    },
    {
      "cell_type": "code",
      "source": [
        "class Top:\n",
        "    def m_top(self):\n",
        "        print(\"top\")\n",
        "\n",
        "\n",
        "class Middle(Top):\n",
        "    def m_middle(self):\n",
        "        print(\"middle\")\n",
        "\n",
        "\n",
        "class Bottom(Middle):\n",
        "    def m_bottom(self):\n",
        "        print(\"bottom\")\n",
        "\n",
        "\n",
        "object = Bottom()\n",
        "object.m_bottom()\n",
        "object.m_middle()\n",
        "object.m_top()\n"
      ],
      "metadata": {
        "id": "XcNaq5QLS0lK"
      },
      "execution_count": null,
      "outputs": []
    },
    {
      "cell_type": "code",
      "source": [
        "class Top:\n",
        "    def m_top(self):\n",
        "        print(\"top\")\n",
        "\n",
        "\n",
        "class Middle_Left(Top):\n",
        "    def m_middle(self):\n",
        "        print(\"middle_left\")\n",
        "\n",
        "\n",
        "class Middle_Right(Top):\n",
        "    def m_middle(self):\n",
        "        print(\"middle_right\")\n",
        "\n",
        "\n",
        "class Bottom(Middle_Left, Middle_Right):\n",
        "    def m_bottom(self):\n",
        "        print(\"bottom\")\n",
        "\n",
        "\n",
        "object = Bottom()\n",
        "object.m_bottom()\n",
        "object.m_middle()\n",
        "object.m_top()\n"
      ],
      "metadata": {
        "colab": {
          "base_uri": "https://localhost:8080/"
        },
        "id": "h3Qbfg6eTAc6",
        "outputId": "1c879166-9c5a-407e-b339-1f12f3b524bd"
      },
      "execution_count": 2,
      "outputs": [
        {
          "output_type": "stream",
          "name": "stdout",
          "text": [
            "bottom\n",
            "middle_left\n",
            "top\n"
          ]
        }
      ]
    },
    {
      "cell_type": "code",
      "source": [
        "class Dog:\n",
        "    kennel = 0\n",
        "    def __init__(self, breed):\n",
        "        self.breed = breed\n",
        "        Dog.kennel += 1\n",
        "    def __str__(self):\n",
        "        return self.breed + \" says: Woof!\"\n",
        "\n",
        "\n",
        "class SheepDog(Dog):\n",
        "    def __str__(self):\n",
        "        return super().__str__() + \" Don't run away, Little Lamb!\"\n",
        "\n",
        "\n",
        "class GuardDog(Dog):\n",
        "    def __str__(self):\n",
        "        return super().__str__() + \" Stay where you are, Mister Intruder!\"\n",
        "\n",
        "\n",
        "rocky = SheepDog(\"Collie\")\n",
        "luna = GuardDog(\"Dobermann\")\n",
        "print(rocky)\n",
        "print(luna)   \n",
        "print(issubclass(SheepDog, Dog), issubclass(SheepDog, GuardDog))\n",
        "print(isinstance(rocky, GuardDog), isinstance(luna, GuardDog))\n",
        "print(issubclass(SheepDog, Dog), issubclass(SheepDog, GuardDog))\n",
        "print(isinstance(rocky, GuardDog), isinstance(luna, GuardDog))\n"
      ],
      "metadata": {
        "id": "ZSipKEWhTOoM"
      },
      "execution_count": null,
      "outputs": []
    }
  ]
}